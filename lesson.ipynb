{
 "metadata": {
  "language_info": {
   "codemirror_mode": {
    "name": "ipython",
    "version": 3
   },
   "file_extension": ".py",
   "mimetype": "text/x-python",
   "name": "python",
   "nbconvert_exporter": "python",
   "pygments_lexer": "ipython3",
   "version": "3.8.3-final"
  },
  "orig_nbformat": 2,
  "kernelspec": {
   "name": "python_defaultSpec_1598096180516",
   "display_name": "Python 3.8.3 64-bit ('base': conda)"
  }
 },
 "nbformat": 4,
 "nbformat_minor": 2,
 "cells": [
  {
   "cell_type": "code",
   "execution_count": 47,
   "metadata": {
    "tags": []
   },
   "outputs": [
    {
     "output_type": "stream",
     "name": "stdout",
     "text": "NO\n"
    }
   ],
   "source": [
    "a = 1234\n",
    "len_count = len(str(a))\n",
    "text = str(a)\n",
    "\n",
    "one = text[:int(len_count / 2)]\n",
    "reverse = text[::-1]\n",
    "two = reverse[:int(len_count / 2)]\n",
    "if one == two:\n",
    "    print(\"YES\")\n",
    "else:\n",
    "    print(\"NO\")"
   ]
  },
  {
   "cell_type": "code",
   "execution_count": 52,
   "metadata": {
    "tags": []
   },
   "outputs": [
    {
     "output_type": "stream",
     "name": "stdout",
     "text": "YES\n"
    }
   ],
   "source": [
    "a,b,c = map(int,input().split())\n",
    "if a + b == c:\n",
    "    print('YES')\n",
    "else: \n",
    "    print('NO')\n"
   ]
  },
  {
   "cell_type": "code",
   "execution_count": 59,
   "metadata": {
    "tags": []
   },
   "outputs": [
    {
     "output_type": "stream",
     "name": "stdout",
     "text": "NO\n"
    }
   ],
   "source": [
    "a = 2\n",
    "b = 7\n",
    "c = 2\n",
    "\n",
    "if a+b>c and b+c>a and a+c>b:\n",
    "    print(\"YES\")\n",
    "else:\n",
    "    print(\"NO\")\n"
   ]
  },
  {
   "cell_type": "code",
   "execution_count": 136,
   "metadata": {
    "tags": []
   },
   "outputs": [
    {
     "output_type": "stream",
     "name": "stdout",
     "text": "YES\n"
    }
   ],
   "source": [
    "a = 5203\n",
    "a = str(a)\n",
    "a = a.rjust(6,'0')\n",
    "\n",
    "one = list(a[:3])\n",
    "one = sum(list(map(int, one)))\n",
    "two = list(a[3:])\n",
    "two = sum(list(map(int, two)))\n",
    "if one == two:\n",
    "    print(\"YES\")\n",
    "else:\n",
    "    print(\"NO\")\n"
   ]
  },
  {
   "cell_type": "code",
   "execution_count": 151,
   "metadata": {
    "tags": []
   },
   "outputs": [
    {
     "output_type": "stream",
     "name": "stdout",
     "text": "-3\n"
    }
   ],
   "source": [
    "n = 5\n",
    "\n",
    "f=(-1)**n * (n + 1) / 2\n",
    "\n",
    "print(int(f))\n"
   ]
  },
  {
   "cell_type": "code",
   "execution_count": null,
   "metadata": {},
   "outputs": [],
   "source": []
  }
 ]
}