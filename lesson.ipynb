{
 "metadata": {
  "language_info": {
   "codemirror_mode": {
    "name": "ipython",
    "version": 3
   },
   "file_extension": ".py",
   "mimetype": "text/x-python",
   "name": "python",
   "nbconvert_exporter": "python",
   "pygments_lexer": "ipython3",
   "version": "3.8.3-final"
  },
  "orig_nbformat": 2,
  "kernelspec": {
   "name": "python_defaultSpec_1598187602172",
   "display_name": "Python 3.8.3 64-bit ('base': conda)"
  }
 },
 "nbformat": 4,
 "nbformat_minor": 2,
 "cells": [
  {
   "cell_type": "code",
   "execution_count": 47,
   "metadata": {
    "tags": []
   },
   "outputs": [
    {
     "output_type": "stream",
     "name": "stdout",
     "text": "NO\n"
    }
   ],
   "source": [
    "a = 1234\n",
    "len_count = len(str(a))\n",
    "text = str(a)\n",
    "\n",
    "one = text[:int(len_count / 2)]\n",
    "reverse = text[::-1]\n",
    "two = reverse[:int(len_count / 2)]\n",
    "if one == two:\n",
    "    print(\"YES\")\n",
    "else:\n",
    "    print(\"NO\")"
   ]
  },
  {
   "cell_type": "code",
   "execution_count": 52,
   "metadata": {
    "tags": []
   },
   "outputs": [
    {
     "output_type": "stream",
     "name": "stdout",
     "text": "YES\n"
    }
   ],
   "source": [
    "a,b,c = map(int,input().split())\n",
    "if a + b == c:\n",
    "    print('YES')\n",
    "else: \n",
    "    print('NO')\n"
   ]
  },
  {
   "cell_type": "code",
   "execution_count": 59,
   "metadata": {
    "tags": []
   },
   "outputs": [
    {
     "output_type": "stream",
     "name": "stdout",
     "text": "NO\n"
    }
   ],
   "source": [
    "a = 2\n",
    "b = 7\n",
    "c = 2\n",
    "\n",
    "if a+b>c and b+c>a and a+c>b:\n",
    "    print(\"YES\")\n",
    "else:\n",
    "    print(\"NO\")\n"
   ]
  },
  {
   "cell_type": "code",
   "execution_count": 136,
   "metadata": {
    "tags": []
   },
   "outputs": [
    {
     "output_type": "stream",
     "name": "stdout",
     "text": "YES\n"
    }
   ],
   "source": [
    "a = 5203\n",
    "a = str(a)\n",
    "a = a.rjust(6,'0')\n",
    "\n",
    "one = list(a[:3])\n",
    "one = sum(list(map(int, one)))\n",
    "two = list(a[3:])\n",
    "two = sum(list(map(int, two)))\n",
    "if one == two:\n",
    "    print(\"YES\")\n",
    "else:\n",
    "    print(\"NO\")\n"
   ]
  },
  {
   "cell_type": "code",
   "execution_count": 151,
   "metadata": {
    "tags": []
   },
   "outputs": [
    {
     "output_type": "stream",
     "name": "stdout",
     "text": "-3\n"
    }
   ],
   "source": [
    "n = 5\n",
    "\n",
    "f=(-1)**n * (n + 1) / 2\n",
    "\n",
    "print(int(f))\n"
   ]
  },
  {
   "cell_type": "code",
   "execution_count": 152,
   "metadata": {
    "tags": []
   },
   "outputs": [
    {
     "output_type": "stream",
     "name": "stdout",
     "text": "<\n"
    }
   ],
   "source": [
    "a = 5\n",
    "b = 9\n",
    "\n",
    "if a < b:\n",
    "    print('<')\n",
    "else:\n",
    "    if a == b:\n",
    "        print('=')\n",
    "    else: \n",
    "        print('>')"
   ]
  },
  {
   "cell_type": "code",
   "execution_count": 153,
   "metadata": {
    "tags": []
   },
   "outputs": [
    {
     "output_type": "stream",
     "name": "stdout",
     "text": "21\n"
    }
   ],
   "source": [
    "a = 5\n",
    "b = 9\n",
    "c = 21\n",
    "\n",
    "x = max(a, b, c)\n",
    "\n",
    "print(x)"
   ]
  },
  {
   "cell_type": "code",
   "execution_count": 184,
   "metadata": {
    "tags": []
   },
   "outputs": [
    {
     "output_type": "stream",
     "name": "stdout",
     "text": "0\n"
    }
   ],
   "source": [
    "a = 1\n",
    "if a == 1:\n",
    "    print(0)\n",
    "else:\n",
    "    if a%2 == 0:\n",
    "        print(int(a / 2))\n",
    "    else:\n",
    "        print(a)"
   ]
  },
  {
   "cell_type": "code",
   "execution_count": 186,
   "metadata": {
    "tags": []
   },
   "outputs": [
    {
     "output_type": "stream",
     "name": "stdout",
     "text": "900\n"
    }
   ],
   "source": [
    "a = list(map(int, input().split()))\n",
    "\n",
    "max_m = max(a)\n",
    "min_m = min(a)\n",
    "a = max_m - min_m\n",
    "\n",
    "print(a)"
   ]
  },
  {
   "cell_type": "code",
   "execution_count": 189,
   "metadata": {
    "tags": []
   },
   "outputs": [
    {
     "output_type": "error",
     "ename": "IndentationError",
     "evalue": "expected an indented block (<ipython-input-189-2df19338cf49>, line 8)",
     "traceback": [
      "\u001b[1;36m  File \u001b[1;32m\"<ipython-input-189-2df19338cf49>\"\u001b[1;36m, line \u001b[1;32m8\u001b[0m\n\u001b[1;33m    print('1')\u001b[0m\n\u001b[1;37m    ^\u001b[0m\n\u001b[1;31mIndentationError\u001b[0m\u001b[1;31m:\u001b[0m expected an indented block\n"
     ]
    }
   ],
   "source": [
    "a = input().lower()\n",
    "b = input().lower()\n",
    "\n",
    "if a < b:\n",
    "    print('-1')\n",
    "else:\n",
    "    if a > b:\n",
    "    print('1')\n",
    "    else:\n",
    "        print('0')"
   ]
  }
 ]
}