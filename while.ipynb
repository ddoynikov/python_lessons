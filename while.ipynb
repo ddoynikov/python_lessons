{
 "metadata": {
  "language_info": {
   "codemirror_mode": {
    "name": "ipython",
    "version": 3
   },
   "file_extension": ".py",
   "mimetype": "text/x-python",
   "name": "python",
   "nbconvert_exporter": "python",
   "pygments_lexer": "ipython3",
   "version": "3.8.3-final"
  },
  "orig_nbformat": 2,
  "kernelspec": {
   "name": "python_defaultSpec_1598625395907",
   "display_name": "Python 3.8.3 64-bit ('_Programs': virtualenv)"
  }
 },
 "nbformat": 4,
 "nbformat_minor": 2,
 "cells": [
  {
   "cell_type": "code",
   "execution_count": 1,
   "metadata": {
    "tags": []
   },
   "outputs": [
    {
     "output_type": "stream",
     "name": "stdout",
     "text": "П\nр\nа\nв\nи\nл\nь\nн\nо\nс\nт\nь\n"
    }
   ],
   "source": [
    "a = 'Правильность'\n",
    "\n",
    "while len(a) > 0:\n",
    "    print(a[0]) \n",
    "    a=a[1:]     \n"
   ]
  },
  {
   "cell_type": "code",
   "execution_count": 5,
   "metadata": {
    "tags": []
   },
   "outputs": [
    {
     "output_type": "stream",
     "name": "stdout",
     "text": "Правильность\nравильност\nавильнос\nвильно\nильн\nль\n"
    }
   ],
   "source": [
    "a = 'Правильность'\n",
    "\n",
    "    \n",
    "while len(a) > 0:\n",
    "    print(a) \n",
    "    a=a[1:-1] "
   ]
  },
  {
   "cell_type": "code",
   "execution_count": null,
   "metadata": {},
   "outputs": [],
   "source": [
    "a = int(input())\n",
    "i = 1\n",
    "while i**2 <= a:\n",
    "    print(i**2)\n",
    "    i +=1"
   ]
  },
  {
   "cell_type": "code",
   "execution_count": null,
   "metadata": {},
   "outputs": [],
   "source": [
    "x = list(map(float, input().split()))\n",
    "\n",
    "a, b = x # распаковали\n",
    "i = 1\n",
    "while a < b:\n",
    "    a = a * 1.15\n",
    "    i+=1\n",
    "print(i)"
   ]
  },
  {
   "cell_type": "code",
   "execution_count": null,
   "metadata": {},
   "outputs": [],
   "source": [
    "socks, mama_day = map(int, input().split())\n",
    "day = 0\n",
    "\n",
    "while socks > 0:\n",
    "    socks-=1\n",
    "    day+=1\n",
    "\n",
    "    if day % mama_day == 0:\n",
    "        socks +=1\n",
    "print(day)"
   ]
  },
  {
   "cell_type": "code",
   "execution_count": null,
   "metadata": {},
   "outputs": [],
   "source": [
    "limac, bob = map(int, input().split())\n",
    "\n",
    "years = 0\n",
    "\n",
    "while limac <= bob:\n",
    "    limac = limac * 3\n",
    "    bob = bob * 2\n",
    "    years+=1\n",
    "print(years)"
   ]
  },
  {
   "cell_type": "code",
   "execution_count": 1,
   "metadata": {},
   "outputs": [],
   "source": [
    "a = int(input())\n",
    "\n",
    "while a != 0:\n",
    "    a=int(input())\n",
    "\n",
    "\n",
    "\n",
    "\n"
   ]
  },
  {
   "cell_type": "code",
   "execution_count": null,
   "metadata": {
    "tags": []
   },
   "outputs": [],
   "source": [
    "a = int(input())\n",
    "if a == 1:\n",
    "    print(0)\n",
    "elif a % 2 != 0:\n",
    "    print('НЕТ')\n",
    "else:\n",
    "    step = 0\n",
    "    while a != 1:\n",
    "        a = a / 2\n",
    "        step+=1\n",
    "    print(step)\n",
    "\n",
    "\n"
   ]
  },
  {
   "cell_type": "code",
   "execution_count": 40,
   "metadata": {
    "tags": []
   },
   "outputs": [
    {
     "output_type": "stream",
     "name": "stdout",
     "text": "3\n"
    }
   ],
   "source": [
    "a = int(input())\n",
    "n = 0\n",
    "\n",
    "while 2 ** n < a:\n",
    "    n+=1\n",
    "if 2 ** n == a:\n",
    "    print(n)\n",
    "else:\n",
    "    print('НЕТ')"
   ]
  },
  {
   "cell_type": "code",
   "execution_count": 68,
   "metadata": {
    "tags": []
   },
   "outputs": [
    {
     "output_type": "stream",
     "name": "stdout",
     "text": "999999999999999999999999\n"
    }
   ],
   "source": [
    "a = 999999999999999999999999\n",
    "\n",
    "first_digit_str = str(a)\n",
    "first_digit = int(first_digit_str[0])\n",
    "\n",
    "while first_digit > 1 and a < 1000000000:\n",
    "\n",
    "    a = a * first_digit\n",
    "    first_digit_str = str(a)\n",
    "    first_digit = int(first_digit_str[0])\n",
    "print(a)"
   ]
  },
  {
   "cell_type": "code",
   "execution_count": 25,
   "metadata": {
    "tags": []
   },
   "outputs": [
    {
     "output_type": "error",
     "ename": "IndexError",
     "evalue": "list index out of range",
     "traceback": [
      "\u001b[1;31m---------------------------------------------------------------------------\u001b[0m",
      "\u001b[1;31mIndexError\u001b[0m                                Traceback (most recent call last)",
      "\u001b[1;32m<ipython-input-25-8ac6c1b89b66>\u001b[0m in \u001b[0;36m<module>\u001b[1;34m\u001b[0m\n\u001b[0;32m     15\u001b[0m     \u001b[0mi\u001b[0m\u001b[1;33m+=\u001b[0m\u001b[1;36m1\u001b[0m\u001b[1;33m\u001b[0m\u001b[1;33m\u001b[0m\u001b[0m\n\u001b[0;32m     16\u001b[0m \u001b[1;32mwhile\u001b[0m \u001b[0mi2\u001b[0m \u001b[1;33m<=\u001b[0m \u001b[0mlen\u001b[0m\u001b[1;33m(\u001b[0m\u001b[0mb\u001b[0m\u001b[1;33m)\u001b[0m\u001b[1;33m-\u001b[0m\u001b[1;36m1\u001b[0m\u001b[1;33m:\u001b[0m\u001b[1;33m\u001b[0m\u001b[1;33m\u001b[0m\u001b[0m\n\u001b[1;32m---> 17\u001b[1;33m     \u001b[0mx\u001b[0m \u001b[1;33m=\u001b[0m \u001b[0mabs\u001b[0m\u001b[1;33m(\u001b[0m\u001b[0mb\u001b[0m\u001b[1;33m[\u001b[0m\u001b[0mi\u001b[0m\u001b[1;33m]\u001b[0m\u001b[1;33m-\u001b[0m\u001b[0ma\u001b[0m\u001b[1;33m[\u001b[0m\u001b[0mi\u001b[0m\u001b[1;33m]\u001b[0m\u001b[1;33m)\u001b[0m\u001b[1;33m\u001b[0m\u001b[1;33m\u001b[0m\u001b[0m\n\u001b[0m\u001b[0;32m     18\u001b[0m     \u001b[1;32mif\u001b[0m \u001b[0mx\u001b[0m \u001b[1;33m==\u001b[0m \u001b[1;36m0\u001b[0m \u001b[1;32mor\u001b[0m \u001b[0mx\u001b[0m \u001b[1;33m==\u001b[0m \u001b[1;36m1\u001b[0m\u001b[1;33m:\u001b[0m\u001b[1;33m\u001b[0m\u001b[1;33m\u001b[0m\u001b[0m\n\u001b[0;32m     19\u001b[0m         \u001b[0mcount2\u001b[0m\u001b[1;33m+=\u001b[0m\u001b[1;36m1\u001b[0m\u001b[1;33m\u001b[0m\u001b[1;33m\u001b[0m\u001b[0m\n",
      "\u001b[1;31mIndexError\u001b[0m: list index out of range"
     ]
    }
   ],
   "source": [
    "a = [1, 4, 6, 2]\n",
    "b = [5, 1, 5, 7, 9]\n",
    "\n",
    "a.sort()\n",
    "b.sort()\n",
    "\n",
    "i = 0\n",
    "i2 = 0\n",
    "count = 0\n",
    "count2 = 0\n",
    "while i <= len(a)-1:\n",
    "    x = abs(a[i]-b[i])\n",
    "    if x == 0 or x == 1:\n",
    "        count+=1\n",
    "    i+=1\n",
    "while i2 <= len(b)-1:\n",
    "    x = abs(b[i]-a[i])\n",
    "    if x == 0 or x == 1:\n",
    "        count2+=1\n",
    "    i+=1\n",
    "print(a)\n",
    "print(b)\n",
    "print(count)\n"
   ]
  },
  {
   "cell_type": "code",
   "execution_count": 2,
   "metadata": {
    "tags": []
   },
   "outputs": [
    {
     "output_type": "stream",
     "name": "stdout",
     "text": "[5, 1, 5, 7, 9]\n"
    }
   ],
   "source": [
    "a=list(map(int, input().split()))\n",
    "print(a)"
   ]
  },
  {
   "cell_type": "code",
   "execution_count": 27,
   "metadata": {
    "tags": []
   },
   "outputs": [
    {
     "output_type": "stream",
     "name": "stdout",
     "text": "3\n"
    }
   ],
   "source": [
    "n = int(input())\n",
    "boys = list(map(int, input().split()))\n",
    "m = int(input())\n",
    "girls = list(map(int, input().split()))\n",
    "\n",
    "boys.sort()\n",
    "girls.sort()\n",
    "\n",
    "i = 0\n",
    "j = 0\n",
    "count = 0\n",
    "while i < n and j < m:\n",
    "    if abs(boys[i] - girls[j]) <= 1:\n",
    "        count+=1\n",
    "        i += 1\n",
    "        j += 1\n",
    "    elif boys[i] < girls[j]:\n",
    "        i += 1\n",
    "    else:\n",
    "        j += 1\n",
    "print(count)"
   ]
  },
  {
   "cell_type": "code",
   "execution_count": 124,
   "metadata": {
    "tags": []
   },
   "outputs": [
    {
     "output_type": "stream",
     "name": "stdout",
     "text": "4\n"
    }
   ],
   "source": [
    "n = 25\n",
    "\n",
    "level = 0\n",
    "cub_level = 0\n",
    "s = 0\n",
    "\n",
    "while s < n:\n",
    "    level += 1\n",
    "    cub_level+=level\n",
    "    s += cub_level\n",
    "if s == n:\n",
    "    print(level)\n",
    "else:\n",
    "    print(level - 1)"
   ]
  },
  {
   "cell_type": "code",
   "execution_count": 140,
   "metadata": {
    "tags": []
   },
   "outputs": [
    {
     "output_type": "stream",
     "name": "stdout",
     "text": "1\n"
    }
   ],
   "source": [
    "n,m = map(int, input().split())\n",
    "\n",
    "a = 0\n",
    "count = 0\n",
    "\n",
    "while a**2 <= n:\n",
    "    b = n - a ** 2\n",
    "    if a + b**2 == m:\n",
    "        count+=1\n",
    "    a+=1\n",
    "print(count)"
   ]
  },
  {
   "cell_type": "code",
   "execution_count": 144,
   "metadata": {
    "tags": []
   },
   "outputs": [
    {
     "output_type": "stream",
     "name": "stdout",
     "text": "9\n"
    }
   ],
   "source": [
    "a,b = map(int, input().split())\n",
    "\n",
    "x = a // b\n",
    "\n",
    "y = a + x + 1\n",
    "print(y)\n"
   ]
  },
  {
   "cell_type": "code",
   "execution_count": 145,
   "metadata": {
    "tags": []
   },
   "outputs": [
    {
     "output_type": "stream",
     "name": "stdout",
     "text": "7\n"
    }
   ],
   "source": [
    "socks, mama_day = map(int, input().split())\n",
    "day = 0\n",
    "\n",
    "while socks > 0:\n",
    "    socks-=1\n",
    "    day+=1\n",
    "\n",
    "    if day % mama_day == 0:\n",
    "        socks +=1\n",
    "print(day)"
   ]
  }
 ]
}