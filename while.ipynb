{
 "metadata": {
  "language_info": {
   "codemirror_mode": {
    "name": "ipython",
    "version": 3
   },
   "file_extension": ".py",
   "mimetype": "text/x-python",
   "name": "python",
   "nbconvert_exporter": "python",
   "pygments_lexer": "ipython3",
   "version": "3.8.3-final"
  },
  "orig_nbformat": 2,
  "kernelspec": {
   "name": "python_defaultSpec_1598271090329",
   "display_name": "Python 3.8.3 64-bit ('_Programs': virtualenv)"
  }
 },
 "nbformat": 4,
 "nbformat_minor": 2,
 "cells": [
  {
   "cell_type": "code",
   "execution_count": 1,
   "metadata": {
    "tags": []
   },
   "outputs": [
    {
     "output_type": "stream",
     "name": "stdout",
     "text": "П\nр\nа\nв\nи\nл\nь\nн\nо\nс\nт\nь\n"
    }
   ],
   "source": [
    "a = 'Правильность'\n",
    "\n",
    "while len(a) > 0:\n",
    "    print(a[0]) \n",
    "    a=a[1:]     \n"
   ]
  },
  {
   "cell_type": "code",
   "execution_count": 5,
   "metadata": {
    "tags": []
   },
   "outputs": [
    {
     "output_type": "stream",
     "name": "stdout",
     "text": "Правильность\nравильност\nавильнос\nвильно\nильн\nль\n"
    }
   ],
   "source": [
    "a = 'Правильность'\n",
    "\n",
    "    \n",
    "while len(a) > 0:\n",
    "    print(a) \n",
    "    a=a[1:-1] "
   ]
  },
  {
   "cell_type": "code",
   "execution_count": null,
   "metadata": {},
   "outputs": [],
   "source": [
    "a = int(input())\n",
    "i = 1\n",
    "while i**2 <= a:\n",
    "    print(i**2)\n",
    "    i +=1"
   ]
  },
  {
   "cell_type": "code",
   "execution_count": null,
   "metadata": {},
   "outputs": [],
   "source": [
    "x = list(map(float, input().split()))\n",
    "\n",
    "a, b = x # распаковали\n",
    "i = 1\n",
    "while a < b:\n",
    "    a = a * 1.15\n",
    "    i+=1\n",
    "print(i)"
   ]
  },
  {
   "cell_type": "code",
   "execution_count": null,
   "metadata": {},
   "outputs": [],
   "source": [
    "socks, mama_day = map(int, input().split())\n",
    "day = 0\n",
    "\n",
    "while socks > 0:\n",
    "    socks-=1\n",
    "    day+=1\n",
    "\n",
    "    if day % mama_day == 0:\n",
    "        socks +=1\n",
    "print(day)"
   ]
  },
  {
   "cell_type": "code",
   "execution_count": null,
   "metadata": {},
   "outputs": [],
   "source": [
    "limac, bob = map(int, input().split())\n",
    "\n",
    "years = 0\n",
    "\n",
    "while limac <= bob:\n",
    "    limac = limac * 3\n",
    "    bob = bob * 2\n",
    "    years+=1\n",
    "print(years)"
   ]
  },
  {
   "cell_type": "code",
   "execution_count": 1,
   "metadata": {},
   "outputs": [],
   "source": [
    "a = int(input())\n",
    "\n",
    "while a != 0:\n",
    "    a=int(input())\n",
    "\n",
    "\n",
    "\n",
    "\n"
   ]
  },
  {
   "cell_type": "code",
   "execution_count": null,
   "metadata": {
    "tags": []
   },
   "outputs": [],
   "source": [
    "a = int(input())\n",
    "if a == 1:\n",
    "    print(0)\n",
    "elif a % 2 != 0:\n",
    "    print('НЕТ')\n",
    "else:\n",
    "    step = 0\n",
    "    while a != 1:\n",
    "        a = a / 2\n",
    "        step+=1\n",
    "    print(step)\n",
    "\n",
    "\n"
   ]
  },
  {
   "cell_type": "code",
   "execution_count": 40,
   "metadata": {
    "tags": []
   },
   "outputs": [
    {
     "output_type": "stream",
     "name": "stdout",
     "text": "3\n"
    }
   ],
   "source": [
    "a = int(input())\n",
    "n = 0\n",
    "\n",
    "while 2 ** n < a:\n",
    "    n+=1\n",
    "if 2 ** n == a:\n",
    "    print(n)\n",
    "else:\n",
    "    print('НЕТ')"
   ]
  },
  {
   "cell_type": "code",
   "execution_count": 68,
   "metadata": {
    "tags": []
   },
   "outputs": [
    {
     "output_type": "stream",
     "name": "stdout",
     "text": "999999999999999999999999\n"
    }
   ],
   "source": [
    "a = 999999999999999999999999\n",
    "\n",
    "first_digit_str = str(a)\n",
    "first_digit = int(first_digit_str[0])\n",
    "\n",
    "while first_digit > 1 and a < 1000000000:\n",
    "\n",
    "    a = a * first_digit\n",
    "    first_digit_str = str(a)\n",
    "    first_digit = int(first_digit_str[0])\n",
    "print(a)"
   ]
  },
  {
   "cell_type": "code",
   "execution_count": null,
   "metadata": {},
   "outputs": [],
   "source": []
  }
 ]
}