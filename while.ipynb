{
 "metadata": {
  "language_info": {
   "codemirror_mode": {
    "name": "ipython",
    "version": 3
   },
   "file_extension": ".py",
   "mimetype": "text/x-python",
   "name": "python",
   "nbconvert_exporter": "python",
   "pygments_lexer": "ipython3",
   "version": "3.8.3-final"
  },
  "orig_nbformat": 2,
  "kernelspec": {
   "name": "python_defaultSpec_1598800391158",
   "display_name": "Python 3.8.3 64-bit ('_Programs': virtualenv)"
  }
 },
 "nbformat": 4,
 "nbformat_minor": 2,
 "cells": [
  {
   "cell_type": "code",
   "execution_count": 1,
   "metadata": {
    "tags": []
   },
   "outputs": [
    {
     "output_type": "stream",
     "name": "stdout",
     "text": "П\nр\nа\nв\nи\nл\nь\nн\nо\nс\nт\nь\n"
    }
   ],
   "source": [
    "a = 'Правильность'\n",
    "\n",
    "while len(a) > 0:\n",
    "    print(a[0]) \n",
    "    a=a[1:]     \n"
   ]
  },
  {
   "cell_type": "code",
   "execution_count": 5,
   "metadata": {
    "tags": []
   },
   "outputs": [
    {
     "output_type": "stream",
     "name": "stdout",
     "text": "Правильность\nравильност\nавильнос\nвильно\nильн\nль\n"
    }
   ],
   "source": [
    "a = 'Правильность'\n",
    "\n",
    "    \n",
    "while len(a) > 0:\n",
    "    print(a) \n",
    "    a=a[1:-1] "
   ]
  },
  {
   "cell_type": "code",
   "execution_count": null,
   "metadata": {},
   "outputs": [],
   "source": [
    "a = int(input())\n",
    "i = 1\n",
    "while i**2 <= a:\n",
    "    print(i**2)\n",
    "    i +=1"
   ]
  },
  {
   "cell_type": "code",
   "execution_count": null,
   "metadata": {},
   "outputs": [],
   "source": [
    "x = list(map(float, input().split()))\n",
    "\n",
    "a, b = x # распаковали\n",
    "i = 1\n",
    "while a < b:\n",
    "    a = a * 1.15\n",
    "    i+=1\n",
    "print(i)"
   ]
  },
  {
   "cell_type": "code",
   "execution_count": null,
   "metadata": {},
   "outputs": [],
   "source": [
    "socks, mama_day = map(int, input().split())\n",
    "day = 0\n",
    "\n",
    "while socks > 0:\n",
    "    socks-=1\n",
    "    day+=1\n",
    "\n",
    "    if day % mama_day == 0:\n",
    "        socks +=1\n",
    "print(day)"
   ]
  },
  {
   "cell_type": "code",
   "execution_count": null,
   "metadata": {},
   "outputs": [],
   "source": [
    "limac, bob = map(int, input().split())\n",
    "\n",
    "years = 0\n",
    "\n",
    "while limac <= bob:\n",
    "    limac = limac * 3\n",
    "    bob = bob * 2\n",
    "    years+=1\n",
    "print(years)"
   ]
  },
  {
   "cell_type": "code",
   "execution_count": 1,
   "metadata": {},
   "outputs": [],
   "source": [
    "a = int(input())\n",
    "\n",
    "while a != 0:\n",
    "    a=int(input())\n",
    "\n",
    "\n",
    "\n",
    "\n"
   ]
  },
  {
   "cell_type": "code",
   "execution_count": null,
   "metadata": {
    "tags": []
   },
   "outputs": [],
   "source": [
    "a = int(input())\n",
    "if a == 1:\n",
    "    print(0)\n",
    "elif a % 2 != 0:\n",
    "    print('НЕТ')\n",
    "else:\n",
    "    step = 0\n",
    "    while a != 1:\n",
    "        a = a / 2\n",
    "        step+=1\n",
    "    print(step)\n",
    "\n",
    "\n"
   ]
  },
  {
   "cell_type": "code",
   "execution_count": 40,
   "metadata": {
    "tags": []
   },
   "outputs": [
    {
     "output_type": "stream",
     "name": "stdout",
     "text": "3\n"
    }
   ],
   "source": [
    "a = int(input())\n",
    "n = 0\n",
    "\n",
    "while 2 ** n < a:\n",
    "    n+=1\n",
    "if 2 ** n == a:\n",
    "    print(n)\n",
    "else:\n",
    "    print('НЕТ')"
   ]
  },
  {
   "cell_type": "code",
   "execution_count": 68,
   "metadata": {
    "tags": []
   },
   "outputs": [
    {
     "output_type": "stream",
     "name": "stdout",
     "text": "999999999999999999999999\n"
    }
   ],
   "source": [
    "a = 999999999999999999999999\n",
    "\n",
    "first_digit_str = str(a)\n",
    "first_digit = int(first_digit_str[0])\n",
    "\n",
    "while first_digit > 1 and a < 1000000000:\n",
    "\n",
    "    a = a * first_digit\n",
    "    first_digit_str = str(a)\n",
    "    first_digit = int(first_digit_str[0])\n",
    "print(a)"
   ]
  },
  {
   "cell_type": "code",
   "execution_count": 25,
   "metadata": {
    "tags": []
   },
   "outputs": [
    {
     "output_type": "error",
     "ename": "IndexError",
     "evalue": "list index out of range",
     "traceback": [
      "\u001b[1;31m---------------------------------------------------------------------------\u001b[0m",
      "\u001b[1;31mIndexError\u001b[0m                                Traceback (most recent call last)",
      "\u001b[1;32m<ipython-input-25-8ac6c1b89b66>\u001b[0m in \u001b[0;36m<module>\u001b[1;34m\u001b[0m\n\u001b[0;32m     15\u001b[0m     \u001b[0mi\u001b[0m\u001b[1;33m+=\u001b[0m\u001b[1;36m1\u001b[0m\u001b[1;33m\u001b[0m\u001b[1;33m\u001b[0m\u001b[0m\n\u001b[0;32m     16\u001b[0m \u001b[1;32mwhile\u001b[0m \u001b[0mi2\u001b[0m \u001b[1;33m<=\u001b[0m \u001b[0mlen\u001b[0m\u001b[1;33m(\u001b[0m\u001b[0mb\u001b[0m\u001b[1;33m)\u001b[0m\u001b[1;33m-\u001b[0m\u001b[1;36m1\u001b[0m\u001b[1;33m:\u001b[0m\u001b[1;33m\u001b[0m\u001b[1;33m\u001b[0m\u001b[0m\n\u001b[1;32m---> 17\u001b[1;33m     \u001b[0mx\u001b[0m \u001b[1;33m=\u001b[0m \u001b[0mabs\u001b[0m\u001b[1;33m(\u001b[0m\u001b[0mb\u001b[0m\u001b[1;33m[\u001b[0m\u001b[0mi\u001b[0m\u001b[1;33m]\u001b[0m\u001b[1;33m-\u001b[0m\u001b[0ma\u001b[0m\u001b[1;33m[\u001b[0m\u001b[0mi\u001b[0m\u001b[1;33m]\u001b[0m\u001b[1;33m)\u001b[0m\u001b[1;33m\u001b[0m\u001b[1;33m\u001b[0m\u001b[0m\n\u001b[0m\u001b[0;32m     18\u001b[0m     \u001b[1;32mif\u001b[0m \u001b[0mx\u001b[0m \u001b[1;33m==\u001b[0m \u001b[1;36m0\u001b[0m \u001b[1;32mor\u001b[0m \u001b[0mx\u001b[0m \u001b[1;33m==\u001b[0m \u001b[1;36m1\u001b[0m\u001b[1;33m:\u001b[0m\u001b[1;33m\u001b[0m\u001b[1;33m\u001b[0m\u001b[0m\n\u001b[0;32m     19\u001b[0m         \u001b[0mcount2\u001b[0m\u001b[1;33m+=\u001b[0m\u001b[1;36m1\u001b[0m\u001b[1;33m\u001b[0m\u001b[1;33m\u001b[0m\u001b[0m\n",
      "\u001b[1;31mIndexError\u001b[0m: list index out of range"
     ]
    }
   ],
   "source": [
    "a = [1, 4, 6, 2]\n",
    "b = [5, 1, 5, 7, 9]\n",
    "\n",
    "a.sort()\n",
    "b.sort()\n",
    "\n",
    "i = 0\n",
    "i2 = 0\n",
    "count = 0\n",
    "count2 = 0\n",
    "while i <= len(a)-1:\n",
    "    x = abs(a[i]-b[i])\n",
    "    if x == 0 or x == 1:\n",
    "        count+=1\n",
    "    i+=1\n",
    "while i2 <= len(b)-1:\n",
    "    x = abs(b[i]-a[i])\n",
    "    if x == 0 or x == 1:\n",
    "        count2+=1\n",
    "    i+=1\n",
    "print(a)\n",
    "print(b)\n",
    "print(count)\n"
   ]
  },
  {
   "cell_type": "code",
   "execution_count": 2,
   "metadata": {
    "tags": []
   },
   "outputs": [
    {
     "output_type": "stream",
     "name": "stdout",
     "text": "[5, 1, 5, 7, 9]\n"
    }
   ],
   "source": [
    "a=list(map(int, input().split()))\n",
    "print(a)"
   ]
  },
  {
   "cell_type": "code",
   "execution_count": 27,
   "metadata": {
    "tags": []
   },
   "outputs": [
    {
     "output_type": "stream",
     "name": "stdout",
     "text": "3\n"
    }
   ],
   "source": [
    "n = int(input())\n",
    "boys = list(map(int, input().split()))\n",
    "m = int(input())\n",
    "girls = list(map(int, input().split()))\n",
    "\n",
    "boys.sort()\n",
    "girls.sort()\n",
    "\n",
    "i = 0\n",
    "j = 0\n",
    "count = 0\n",
    "while i < n and j < m:\n",
    "    if abs(boys[i] - girls[j]) <= 1:\n",
    "        count+=1\n",
    "        i += 1\n",
    "        j += 1\n",
    "    elif boys[i] < girls[j]:\n",
    "        i += 1\n",
    "    else:\n",
    "        j += 1\n",
    "print(count)"
   ]
  },
  {
   "cell_type": "code",
   "execution_count": 124,
   "metadata": {
    "tags": []
   },
   "outputs": [
    {
     "output_type": "stream",
     "name": "stdout",
     "text": "4\n"
    }
   ],
   "source": [
    "n = 25\n",
    "\n",
    "level = 0\n",
    "cub_level = 0\n",
    "s = 0\n",
    "\n",
    "while s < n:\n",
    "    level += 1\n",
    "    cub_level+=level\n",
    "    s += cub_level\n",
    "if s == n:\n",
    "    print(level)\n",
    "else:\n",
    "    print(level - 1)"
   ]
  },
  {
   "cell_type": "code",
   "execution_count": 6,
   "metadata": {
    "tags": []
   },
   "outputs": [
    {
     "output_type": "error",
     "ename": "ValueError",
     "evalue": "not enough values to unpack (expected 2, got 1)",
     "traceback": [
      "\u001b[1;31m---------------------------------------------------------------------------\u001b[0m",
      "\u001b[1;31mValueError\u001b[0m                                Traceback (most recent call last)",
      "\u001b[1;32m<ipython-input-6-418c2cd56b65>\u001b[0m in \u001b[0;36m<module>\u001b[1;34m\u001b[0m\n\u001b[1;32m----> 1\u001b[1;33m \u001b[0mn\u001b[0m\u001b[1;33m,\u001b[0m\u001b[0mm\u001b[0m \u001b[1;33m=\u001b[0m \u001b[0mmap\u001b[0m\u001b[1;33m(\u001b[0m\u001b[0mint\u001b[0m\u001b[1;33m,\u001b[0m \u001b[0minput\u001b[0m\u001b[1;33m(\u001b[0m\u001b[1;33m)\u001b[0m\u001b[1;33m.\u001b[0m\u001b[0msplit\u001b[0m\u001b[1;33m(\u001b[0m\u001b[1;33m)\u001b[0m\u001b[1;33m)\u001b[0m\u001b[1;33m\u001b[0m\u001b[1;33m\u001b[0m\u001b[0m\n\u001b[0m\u001b[0;32m      2\u001b[0m \u001b[1;33m\u001b[0m\u001b[0m\n\u001b[0;32m      3\u001b[0m \u001b[0ma\u001b[0m \u001b[1;33m=\u001b[0m \u001b[1;36m0\u001b[0m\u001b[1;33m\u001b[0m\u001b[1;33m\u001b[0m\u001b[0m\n\u001b[0;32m      4\u001b[0m \u001b[0mcount\u001b[0m \u001b[1;33m=\u001b[0m \u001b[1;36m0\u001b[0m\u001b[1;33m\u001b[0m\u001b[1;33m\u001b[0m\u001b[0m\n\u001b[0;32m      5\u001b[0m \u001b[1;33m\u001b[0m\u001b[0m\n",
      "\u001b[1;31mValueError\u001b[0m: not enough values to unpack (expected 2, got 1)"
     ]
    }
   ],
   "source": [
    "n,m = map(int, input().split())\n",
    "\n",
    "a = 0\n",
    "count = 0\n",
    "\n",
    "while a**2 <= n:\n",
    "    b = n - a ** 2\n",
    "    if a + b**2 == m:\n",
    "        count+=1\n",
    "    a+=1\n",
    "print(count)"
   ]
  },
  {
   "cell_type": "code",
   "execution_count": 145,
   "metadata": {
    "tags": []
   },
   "outputs": [
    {
     "output_type": "stream",
     "name": "stdout",
     "text": "7\n"
    }
   ],
   "source": [
    "socks, mama_day = map(int, input().split())\n",
    "day = 0\n",
    "\n",
    "while socks > 0:\n",
    "    socks-=1\n",
    "    day+=1\n",
    "\n",
    "    if day % mama_day == 0:\n",
    "        socks +=1\n",
    "print(day)"
   ]
  },
  {
   "cell_type": "code",
   "execution_count": 41,
   "metadata": {
    "tags": []
   },
   "outputs": [
    {
     "output_type": "stream",
     "name": "stdout",
     "text": "7\n"
    }
   ],
   "source": [
    "n, k = map(int, input().split())\n",
    "time_work = 240 - k\n",
    "time_task = 5\n",
    "task = 0\n",
    "count = 0\n",
    "i = 1\n",
    "while time_work - task > 0 and n > 0:\n",
    "    task = time_task * i\n",
    "    time_work = time_work - task\n",
    "    n-=1\n",
    "    i+=1\n",
    "    count+=1\n",
    "print(count)\n",
    "\n"
   ]
  },
  {
   "cell_type": "code",
   "execution_count": null,
   "metadata": {},
   "outputs": [],
   "source": [
    "n, k = map(int, input().split())\n",
    "i, t = 0, 0\n",
    "while i < n and t + k + 5*(i + 1) <= 240:\n",
    "    i += 1\n",
    "    t += 5 * i\n",
    "print(i)"
   ]
  },
  {
   "cell_type": "code",
   "execution_count": 51,
   "metadata": {
    "tags": []
   },
   "outputs": [
    {
     "output_type": "stream",
     "name": "stdout",
     "text": "6\n5\n4\n3\n2\n1\nВсего цифр: 6\nВсего четных цифр: 3\nСумма всех цифр: 21\nПроизведение всех цифр: 720\nМаксимум: 6\nМинимум: 1\n"
    }
   ],
   "source": [
    "x = int(input())\n",
    "kol = 0\n",
    "kol_ch = 0\n",
    "s = 0\n",
    "pr = 1\n",
    "maximum = 0\n",
    "minimum = 9\n",
    "while x > 0:\n",
    "    last = x%10\n",
    "    print(x%10)\n",
    "    kol+=1\n",
    "    if last%2 ==0:\n",
    "        kol_ch+=1\n",
    "    s = s+last\n",
    "    pr = pr*last\n",
    "    if last > maximum:\n",
    "        maximum = last\n",
    "    if last < minimum:\n",
    "        minimum = last\n",
    "    x = x//10\n",
    "print('Всего цифр:', kol)\n",
    "print('Всего четных цифр:', kol_ch)\n",
    "print('Сумма всех цифр:', s)\n",
    "print('Произведение всех цифр:', pr)\n",
    "print('Максимум:', maximum)\n",
    "print('Минимум:', minimum)"
   ]
  },
  {
   "cell_type": "code",
   "execution_count": 53,
   "metadata": {
    "tags": []
   },
   "outputs": [
    {
     "output_type": "stream",
     "name": "stdout",
     "text": "1\n0\n1\n0\n0\n1\n1\n1\n0\n0\n0\n0\n0\n1\n"
    }
   ],
   "source": [
    "x = int(input()) #перевод в двоичную систему счисления\n",
    "\n",
    "while x > 0:\n",
    "    last = x%2\n",
    "    print(last)\n",
    "    x = x//2\n"
   ]
  },
  {
   "cell_type": "code",
   "execution_count": 65,
   "metadata": {
    "tags": []
   },
   "outputs": [
    {
     "output_type": "stream",
     "name": "stdout",
     "text": "0\n"
    }
   ],
   "source": [
    "x = int(input())\n",
    "s = 1\n",
    "num = 7\n",
    "count = 0\n",
    "while x > 0:\n",
    "    last = x%10\n",
    "    if last == num:\n",
    "        count+=1\n",
    "    x = x//10\n",
    "print(count)"
   ]
  },
  {
   "cell_type": "code",
   "execution_count": 66,
   "metadata": {
    "tags": []
   },
   "outputs": [
    {
     "output_type": "stream",
     "name": "stdout",
     "text": "11\n"
    }
   ],
   "source": [
    "a = int(input())\n",
    "b = int(input())\n",
    "\n",
    "while a != b:\n",
    "    if a > b:\n",
    "        a = a - b\n",
    "    else:\n",
    "        b = b - a\n",
    "\n",
    "print(a)\n"
   ]
  },
  {
   "cell_type": "code",
   "execution_count": 70,
   "metadata": {
    "tags": []
   },
   "outputs": [
    {
     "output_type": "stream",
     "name": "stdout",
     "text": "2\n"
    }
   ],
   "source": [
    "a = int(input())\n",
    "b = int(input())\n",
    "\n",
    "while b>0:\n",
    "##    c = a%b\n",
    "##    a=b\n",
    "##    b=c\n",
    "    a,b = b, a%b\n",
    "print(a)"
   ]
  },
  {
   "cell_type": "code",
   "execution_count": 75,
   "metadata": {
    "tags": []
   },
   "outputs": [
    {
     "output_type": "stream",
     "name": "stdout",
     "text": "30\n"
    }
   ],
   "source": [
    "a,b = map(int, input().split())\n",
    "c,d = a,b\n",
    "while d>0:\n",
    "    c,d = d, c%d\n",
    "nok = a * b / c\n",
    "print(int(nok))"
   ]
  },
  {
   "cell_type": "code",
   "execution_count": 9,
   "metadata": {
    "tags": []
   },
   "outputs": [
    {
     "output_type": "stream",
     "name": "stdout",
     "text": "1\n"
    }
   ],
   "source": [
    "n =  int(input())\n",
    "i = 1\n",
    "\n",
    "while i<=n//2:\n",
    "    \n",
    "    if n%i == 0:\n",
    "        print(i, end=' ')\n",
    "    \n",
    "    i+=1\n",
    "print(n)"
   ]
  },
  {
   "cell_type": "code",
   "execution_count": 23,
   "metadata": {
    "tags": []
   },
   "outputs": [
    {
     "output_type": "stream",
     "name": "stdout",
     "text": "Yes\n[1, 5]\n2\n"
    }
   ],
   "source": [
    "n =  int(input())\n",
    "i = 1\n",
    "a = []\n",
    "while i * i <= n:\n",
    "    if n%i == 0:\n",
    "        a.append(i)\n",
    "        if i != n//i:\n",
    "            a.append(n//i)\n",
    "    i+=1\n",
    "a.sort()\n",
    "if len(a) == 2:\n",
    "    print(\"Yes\")\n",
    "else:\n",
    "    print(\"No\")\n"
   ]
  },
  {
   "cell_type": "code",
   "execution_count": 26,
   "metadata": {
    "tags": []
   },
   "outputs": [
    {
     "output_type": "stream",
     "name": "stdout",
     "text": "afdasdfsadf 11\nasdfg 5\n"
    }
   ],
   "source": [
    "while True:\n",
    "    a = input()\n",
    "    if a == 'exit':\n",
    "        break #завершает цикл\n",
    "    if len(a) < 5:\n",
    "        continue # перекидывает вначало цикла\n",
    "    print(a, len(a))"
   ]
  },
  {
   "cell_type": "code",
   "execution_count": 27,
   "metadata": {
    "tags": []
   },
   "outputs": [
    {
     "output_type": "stream",
     "name": "stdout",
     "text": "1\n2\n3\n4\n5\n6\n7\n8\n9\n10\n11\n12\n13\n14\n15\ngood\njob\nend\n"
    }
   ],
   "source": [
    "i = 1\n",
    "while i<=15:\n",
    "    print(i)\n",
    "    i+=1\n",
    "else:\n",
    "    print('good')\n",
    "    print('job')\n",
    "print('end')"
   ]
  },
  {
   "cell_type": "code",
   "execution_count": 30,
   "metadata": {
    "tags": []
   },
   "outputs": [
    {
     "output_type": "stream",
     "name": "stdout",
     "text": "No 23\n"
    }
   ],
   "source": [
    "a = [54, 32, 23, 6, 32, 52]\n",
    "#Yes - все четные\n",
    "#No - в противном случае\n",
    "\n",
    "while len(a)>0:\n",
    "    last = a.pop()\n",
    "    if last%2 !=0:\n",
    "        print('No', last)\n",
    "        break\n",
    "else:\n",
    "    print('Yes')"
   ]
  },
  {
   "cell_type": "code",
   "execution_count": null,
   "metadata": {},
   "outputs": [],
   "source": []
  }
 ]
}