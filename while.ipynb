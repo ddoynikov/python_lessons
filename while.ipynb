{
 "metadata": {
  "language_info": {
   "codemirror_mode": {
    "name": "ipython",
    "version": 3
   },
   "file_extension": ".py",
   "mimetype": "text/x-python",
   "name": "python",
   "nbconvert_exporter": "python",
   "pygments_lexer": "ipython3",
   "version": "3.8.3-final"
  },
  "orig_nbformat": 2,
  "kernelspec": {
   "name": "python_defaultSpec_1598197204496",
   "display_name": "Python 3.8.3 64-bit ('_Programs': virtualenv)"
  }
 },
 "nbformat": 4,
 "nbformat_minor": 2,
 "cells": [
  {
   "cell_type": "code",
   "execution_count": 1,
   "metadata": {
    "tags": []
   },
   "outputs": [
    {
     "output_type": "stream",
     "name": "stdout",
     "text": "П\nр\nа\nв\nи\nл\nь\nн\nо\nс\nт\nь\n"
    }
   ],
   "source": [
    "a = 'Правильность'\n",
    "\n",
    "while len(a) > 0:\n",
    "    print(a[0]) \n",
    "    a=a[1:]     \n"
   ]
  },
  {
   "cell_type": "code",
   "execution_count": 5,
   "metadata": {
    "tags": []
   },
   "outputs": [
    {
     "output_type": "stream",
     "name": "stdout",
     "text": "Правильность\nравильност\nавильнос\nвильно\nильн\nль\n"
    }
   ],
   "source": [
    "a = 'Правильность'\n",
    "\n",
    "    \n",
    "while len(a) > 0:\n",
    "    print(a) \n",
    "    a=a[1:-1] "
   ]
  },
  {
   "cell_type": "code",
   "execution_count": null,
   "metadata": {},
   "outputs": [],
   "source": []
  }
 ]
}